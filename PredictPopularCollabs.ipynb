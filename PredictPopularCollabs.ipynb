{
 "cells": [
  {
   "cell_type": "code",
   "execution_count": 1,
   "id": "37d7d785",
   "metadata": {},
   "outputs": [
    {
     "ename": "ModuleNotFoundError",
     "evalue": "No module named 'pandas'",
     "output_type": "error",
     "traceback": [
      "\u001b[31m---------------------------------------------------------------------------\u001b[39m",
      "\u001b[31mModuleNotFoundError\u001b[39m                       Traceback (most recent call last)",
      "\u001b[36mCell\u001b[39m\u001b[36m \u001b[39m\u001b[32mIn[1]\u001b[39m\u001b[32m, line 1\u001b[39m\n\u001b[32m----> \u001b[39m\u001b[32m1\u001b[39m \u001b[38;5;28;01mimport\u001b[39;00m\u001b[38;5;250m \u001b[39m\u001b[34;01mpandas\u001b[39;00m\u001b[38;5;250m \u001b[39m\u001b[38;5;28;01mas\u001b[39;00m\u001b[38;5;250m \u001b[39m\u001b[34;01mpd\u001b[39;00m\n\u001b[32m      2\u001b[39m \u001b[38;5;28;01mimport\u001b[39;00m\u001b[38;5;250m \u001b[39m\u001b[34;01mnumpy\u001b[39;00m\u001b[38;5;250m \u001b[39m\u001b[38;5;28;01mas\u001b[39;00m\u001b[38;5;250m \u001b[39m\u001b[34;01mnp\u001b[39;00m\n\u001b[32m      3\u001b[39m \u001b[38;5;28;01mimport\u001b[39;00m\u001b[38;5;250m \u001b[39m\u001b[34;01mrequests\u001b[39;00m\n",
      "\u001b[31mModuleNotFoundError\u001b[39m: No module named 'pandas'"
     ]
    }
   ],
   "source": [
    "import pandas as pd\n",
    "import numpy as np\n",
    "import requests"
   ]
  },
  {
   "cell_type": "code",
   "execution_count": null,
   "id": "66f5a82d",
   "metadata": {},
   "outputs": [],
   "source": [
    "# Replace with Spotify API credentials\n",
    "client_id = 'Credentials Placeholder'\n",
    "client_secret = 'Credentials Placeholder'\n",
    "\n",
    "def get_spotify_token(client_id, client_secret):\n",
    "    \"\"\"Get an OAuth token using the Client Credentials Flow.\"\"\"\n",
    "    token_url = 'https://accounts.spotify.com/api/token'\n",
    "    headers = {'Content-Type': 'application/x-www-form-urlencoded'}\n",
    "    data = {'grant_type': 'client_credentials'}\n",
    "    response = requests.post(token_url, headers=headers, data=data, auth=(client_id, client_secret))\n",
    "    response.raise_for_status()\n",
    "    token = response.json()['access_token']\n",
    "    return token\n",
    "\n",
    "def search_artist(artist_name, token):\n",
    "    \"\"\"Search for an artist and return their Spotify ID.\"\"\"\n",
    "    search_url = 'https://api.spotify.com/v1/search'\n",
    "    headers = {'Authorization': f'Bearer {token}'}\n",
    "    params = {'q': artist_name, 'type': 'artist', 'limit': 1}\n",
    "    response = requests.get(search_url, headers=headers, params=params)\n",
    "    response.raise_for_status()\n",
    "    results = response.json()['artists']['items']\n",
    "    if results:\n",
    "        return results[0]['id']\n",
    "    return None"
   ]
  }
 ],
 "metadata": {
  "kernelspec": {
   "display_name": ".venv",
   "language": "python",
   "name": "python3"
  },
  "language_info": {
   "codemirror_mode": {
    "name": "ipython",
    "version": 3
   },
   "file_extension": ".py",
   "mimetype": "text/x-python",
   "name": "python",
   "nbconvert_exporter": "python",
   "pygments_lexer": "ipython3",
   "version": "3.12.6"
  }
 },
 "nbformat": 4,
 "nbformat_minor": 5
}
